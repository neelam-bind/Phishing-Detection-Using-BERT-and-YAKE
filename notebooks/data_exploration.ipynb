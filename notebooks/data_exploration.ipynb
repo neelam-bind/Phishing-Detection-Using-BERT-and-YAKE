{
 "cells": [
  {
   "cell_type": "code",
   "execution_count": null,
   "id": "e23d47a1",
   "metadata": {},
   "outputs": [],
   "source": [
    "# Importing necessary libraries\n",
    "import pandas as pd\n",
    "import matplotlib.pyplot as plt\n",
    "import seaborn as sns\n",
    "\n",
    "# Load dataset\n",
    "train_df = pd.read_csv('data/train.csv')\n",
    "test_df = pd.read_csv('data/test.csv')\n",
    "\n",
    "# Display first few rows of the training data\n",
    "train_df.head()\n",
    "\n",
    "# Check for missing values\n",
    "train_df.isnull().sum()\n",
    "\n",
    "# Check distribution of labels\n",
    "sns.countplot(x='label', data=train_df)\n",
    "plt.title('Distribution of Phishing vs Non-Phishing Emails')\n",
    "plt.show()\n",
    "\n",
    "# Check text length distribution for both classes\n",
    "train_df['text_length'] = train_df['text'].apply(len)\n",
    "sns.histplot(train_df[train_df['label'] == 0]['text_length'], kde=True, label=\"Non-Phishing\", color='blue')\n",
    "sns.histplot(train_df[train_df['label'] == 1]['text_length'], kde=True, label=\"Phishing\", color='red')\n",
    "plt.legend()\n",
    "plt.title('Text Length Distribution')\n",
    "plt.show()"
   ]
  }
 ],
 "metadata": {
  "kernelspec": {
   "display_name": "Python 3",
   "language": "python",
   "name": "python3"
  },
  "language_info": {
   "codemirror_mode": {
    "name": "ipython",
    "version": 3
   },
   "file_extension": ".py",
   "mimetype": "text/x-python",
   "name": "python",
   "nbconvert_exporter": "python",
   "version": "3.9.12"
  }
 },
 "nbformat": 4,
 "nbformat_minor": 5
}
