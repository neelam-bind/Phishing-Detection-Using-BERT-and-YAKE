# Importing necessary libraries
import pandas as pd
import matplotlib.pyplot as plt
import seaborn as sns

# Load dataset
train_df = pd.read_csv('data/train.csv')
test_df = pd.read_csv('data/test.csv')

# Display first few rows of the training data
train_df.head()

# Check for missing values
train_df.isnull().sum()

# Check distribution of labels
sns.countplot(x='label', data=train_df)
plt.title('Distribution of Phishing vs Non-Phishing Emails')
plt.show()

# Check text length distribution for both classes
train_df['text_length'] = train_df['text'].apply(len)
sns.histplot(train_df[train_df['label'] == 0]['text_length'], kde=True, label="Non-Phishing", color='blue')
sns.histplot(train_df[train_df['label'] == 1]['text_length'], kde=True, label="Phishing", color='red')
plt.legend()
plt.title('Text Length Distribution')
plt.show()

